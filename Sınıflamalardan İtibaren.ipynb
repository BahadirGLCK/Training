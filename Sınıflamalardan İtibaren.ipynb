{
 "cells": [
  {
   "cell_type": "code",
   "execution_count": 2,
   "metadata": {
    "collapsed": true
   },
   "outputs": [],
   "source": [
    "class ekip():\n",
    "    \n",
    "    def __init__ (self,isim,soyisim,ünvanı,görevi):\n",
    "        \n",
    "        self.isim = isim\n",
    "        self.soyisim = soyisim\n",
    "        self.ünvanı = ünvanı\n",
    "        self.görevi = görevi\n",
    "    \n",
    "    def bilgilerigöster(self):\n",
    "        print(\"\"\"\n",
    "        **********************\n",
    "        İsim : {}\n",
    "        Soyisim : {}\n",
    "        Ünvanı: {}\n",
    "        Ekip İçindeki Görevi: {}\n",
    "        **********************\n",
    "        \"\"\".format(self.isim,self.soyisim,self.ünvanı,self.görevi))\n",
    "    def görev_degisikligi(self):\n",
    "        \n",
    "        g = input(\"Görev Tanımını Giriniz :\")\n",
    "        self.görevi = g\n",
    "        print(\"Bilgiler Güncelleniyor\")\n",
    "        \n",
    "    def ünvan_degisikligi(self):\n",
    "        \n",
    "        u= input(\"Ünvan değişikliğini Giriniz : \")\n",
    "        self.ünvanı= u\n",
    "        print(\"Bilgiler Güncelleniyor\")"
   ]
  },
  {
   "cell_type": "code",
   "execution_count": 3,
   "metadata": {
    "collapsed": true
   },
   "outputs": [],
   "source": [
    "Ekip = ekip(\"Bahadır\",\"Gölcük\",\"Elektronik Mühendisi\",\"Operasyonel Süreci Planlama\")"
   ]
  },
  {
   "cell_type": "code",
   "execution_count": 4,
   "metadata": {},
   "outputs": [
    {
     "data": {
      "text/plain": [
       "__main__.ekip"
      ]
     },
     "execution_count": 4,
     "metadata": {},
     "output_type": "execute_result"
    }
   ],
   "source": [
    "ekip"
   ]
  },
  {
   "cell_type": "code",
   "execution_count": 5,
   "metadata": {},
   "outputs": [
    {
     "data": {
      "text/plain": [
       "<__main__.ekip at 0x18419a44908>"
      ]
     },
     "execution_count": 5,
     "metadata": {},
     "output_type": "execute_result"
    }
   ],
   "source": [
    "Ekip"
   ]
  },
  {
   "cell_type": "code",
   "execution_count": 6,
   "metadata": {},
   "outputs": [
    {
     "name": "stdout",
     "output_type": "stream",
     "text": [
      "\n",
      "        **********************\n",
      "        İsim : Bahadır\n",
      "        Soyisim : Gölcük\n",
      "        Ünvanı: Elektronik Mühendisi\n",
      "        Ekip İçindeki Görevi: Operasyonel Süreci Planlama\n",
      "        **********************\n",
      "        \n"
     ]
    }
   ],
   "source": [
    "Ekip.bilgilerigöster()"
   ]
  },
  {
   "cell_type": "code",
   "execution_count": 7,
   "metadata": {},
   "outputs": [
    {
     "name": "stdout",
     "output_type": "stream",
     "text": [
      "Görev Tanımını Giriniz :\n",
      "Bilgiler Güncelleniyor\n"
     ]
    }
   ],
   "source": [
    "Ekip.görev_degisikligi()"
   ]
  },
  {
   "cell_type": "code",
   "execution_count": 8,
   "metadata": {},
   "outputs": [
    {
     "name": "stdout",
     "output_type": "stream",
     "text": [
      "\n",
      "        **********************\n",
      "        İsim : Bahadır\n",
      "        Soyisim : Gölcük\n",
      "        Ünvanı: Elektronik Mühendisi\n",
      "        Ekip İçindeki Görevi: \n",
      "        **********************\n",
      "        \n"
     ]
    }
   ],
   "source": [
    "Ekip.bilgilerigöster()"
   ]
  },
  {
   "cell_type": "code",
   "execution_count": null,
   "metadata": {
    "collapsed": true
   },
   "outputs": [],
   "source": [
    "Ekip.ünvan_degisikligi()"
   ]
  },
  {
   "cell_type": "code",
   "execution_count": 15,
   "metadata": {},
   "outputs": [
    {
     "name": "stdout",
     "output_type": "stream",
     "text": [
      "\n",
      "        **********************\n",
      "        İsim : Bahadır\n",
      "        Soyisim : Gölcük\n",
      "        Ünvanı: Junior Developer\n",
      "        Ekip İçindeki Görevi: Proje Takip Sürecini Yürütme\n",
      "        **********************\n",
      "        \n"
     ]
    }
   ],
   "source": [
    "Ekip.bilgilerigöster()"
   ]
  },
  {
   "cell_type": "code",
   "execution_count": 12,
   "metadata": {
    "collapsed": true
   },
   "outputs": [],
   "source": [
    "file = open(\"deneme.txt\",\"w\", encoding=\"utf-8\")\n"
   ]
  },
  {
   "cell_type": "code",
   "execution_count": 13,
   "metadata": {},
   "outputs": [
    {
     "data": {
      "text/plain": [
       "15"
      ]
     },
     "execution_count": 13,
     "metadata": {},
     "output_type": "execute_result"
    }
   ],
   "source": [
    "file.write(\"Bahadır GÖLCÜK \")"
   ]
  },
  {
   "cell_type": "code",
   "execution_count": 14,
   "metadata": {
    "collapsed": true
   },
   "outputs": [],
   "source": [
    "file.close()"
   ]
  },
  {
   "cell_type": "code",
   "execution_count": 15,
   "metadata": {
    "collapsed": true
   },
   "outputs": [],
   "source": [
    "file = open (\"deneme.txt\",\"a\",encoding=\"utf-8\")"
   ]
  },
  {
   "cell_type": "code",
   "execution_count": 16,
   "metadata": {},
   "outputs": [
    {
     "data": {
      "text/plain": [
       "17"
      ]
     },
     "execution_count": 16,
     "metadata": {},
     "output_type": "execute_result"
    }
   ],
   "source": [
    "file.write(\"\\nMelih Mahmutoğlu\")"
   ]
  },
  {
   "cell_type": "code",
   "execution_count": 17,
   "metadata": {
    "collapsed": true
   },
   "outputs": [],
   "source": [
    "file.close()"
   ]
  },
  {
   "cell_type": "code",
   "execution_count": 18,
   "metadata": {
    "collapsed": true
   },
   "outputs": [],
   "source": [
    "file = open (\"deneme.txt\",\"r\")"
   ]
  },
  {
   "cell_type": "code",
   "execution_count": 3,
   "metadata": {},
   "outputs": [
    {
     "name": "stdout",
     "output_type": "stream",
     "text": [
      "0\n",
      "Bahadır GÖ\n",
      "<class 'str'>\n"
     ]
    }
   ],
   "source": [
    "with open(\"deneme.txt\",\"r\",encoding=\"utf-8\") as file:\n",
    "    print(file.tell())\n",
    "    içerik = file.read(10)\n",
    "    print(içerik)\n",
    "    print(type(içerik))\n",
    "    \n",
    "    "
   ]
  },
  {
   "cell_type": "code",
   "execution_count": 4,
   "metadata": {},
   "outputs": [
    {
     "ename": "UnicodeDecodeError",
     "evalue": "'utf-8' codec can't decode byte 0xfe in position 51: invalid start byte",
     "output_type": "error",
     "traceback": [
      "\u001b[1;31m---------------------------------------------------------------------------\u001b[0m",
      "\u001b[1;31mUnicodeDecodeError\u001b[0m                        Traceback (most recent call last)",
      "\u001b[1;32m<ipython-input-4-04445bcb5ca0>\u001b[0m in \u001b[0;36m<module>\u001b[1;34m()\u001b[0m\n\u001b[0;32m     52\u001b[0m         \u001b[0mnot_ortalamaları\u001b[0m \u001b[1;33m=\u001b[0m\u001b[1;33m[\u001b[0m\u001b[1;33m]\u001b[0m\u001b[1;33m\u001b[0m\u001b[0m\n\u001b[0;32m     53\u001b[0m \u001b[1;33m\u001b[0m\u001b[0m\n\u001b[1;32m---> 54\u001b[1;33m         \u001b[1;32mfor\u001b[0m \u001b[0mi\u001b[0m \u001b[1;32min\u001b[0m \u001b[0mfile\u001b[0m\u001b[1;33m:\u001b[0m\u001b[1;33m\u001b[0m\u001b[0m\n\u001b[0m\u001b[0;32m     55\u001b[0m \u001b[1;33m\u001b[0m\u001b[0m\n\u001b[0;32m     56\u001b[0m                 \u001b[0mnot_ortalamaları\u001b[0m\u001b[1;33m.\u001b[0m\u001b[0mappend\u001b[0m\u001b[1;33m(\u001b[0m\u001b[0mnot_hesaplama\u001b[0m\u001b[1;33m(\u001b[0m\u001b[0mi\u001b[0m\u001b[1;33m)\u001b[0m\u001b[1;33m)\u001b[0m\u001b[1;33m\u001b[0m\u001b[0m\n",
      "\u001b[1;32mC:\\Users\\LENOVO\\Anaconda3\\lib\\codecs.py\u001b[0m in \u001b[0;36mdecode\u001b[1;34m(self, input, final)\u001b[0m\n\u001b[0;32m    319\u001b[0m         \u001b[1;31m# decode input (taking the buffer into account)\u001b[0m\u001b[1;33m\u001b[0m\u001b[1;33m\u001b[0m\u001b[0m\n\u001b[0;32m    320\u001b[0m         \u001b[0mdata\u001b[0m \u001b[1;33m=\u001b[0m \u001b[0mself\u001b[0m\u001b[1;33m.\u001b[0m\u001b[0mbuffer\u001b[0m \u001b[1;33m+\u001b[0m \u001b[0minput\u001b[0m\u001b[1;33m\u001b[0m\u001b[0m\n\u001b[1;32m--> 321\u001b[1;33m         \u001b[1;33m(\u001b[0m\u001b[0mresult\u001b[0m\u001b[1;33m,\u001b[0m \u001b[0mconsumed\u001b[0m\u001b[1;33m)\u001b[0m \u001b[1;33m=\u001b[0m \u001b[0mself\u001b[0m\u001b[1;33m.\u001b[0m\u001b[0m_buffer_decode\u001b[0m\u001b[1;33m(\u001b[0m\u001b[0mdata\u001b[0m\u001b[1;33m,\u001b[0m \u001b[0mself\u001b[0m\u001b[1;33m.\u001b[0m\u001b[0merrors\u001b[0m\u001b[1;33m,\u001b[0m \u001b[0mfinal\u001b[0m\u001b[1;33m)\u001b[0m\u001b[1;33m\u001b[0m\u001b[0m\n\u001b[0m\u001b[0;32m    322\u001b[0m         \u001b[1;31m# keep undecoded input until the next call\u001b[0m\u001b[1;33m\u001b[0m\u001b[1;33m\u001b[0m\u001b[0m\n\u001b[0;32m    323\u001b[0m         \u001b[0mself\u001b[0m\u001b[1;33m.\u001b[0m\u001b[0mbuffer\u001b[0m \u001b[1;33m=\u001b[0m \u001b[0mdata\u001b[0m\u001b[1;33m[\u001b[0m\u001b[0mconsumed\u001b[0m\u001b[1;33m:\u001b[0m\u001b[1;33m]\u001b[0m\u001b[1;33m\u001b[0m\u001b[0m\n",
      "\u001b[1;31mUnicodeDecodeError\u001b[0m: 'utf-8' codec can't decode byte 0xfe in position 51: invalid start byte"
     ]
    }
   ],
   "source": [
    "def not_hesaplama(satır):\n",
    "\n",
    "\tsatır = satır[:-1]\n",
    "\tliste= satır.split(\",\")\n",
    "\n",
    "\tisim = liste[0]\n",
    "\tnot1 = int(liste[1])\n",
    "\tnot2 = int(liste[2])\n",
    "\tnot3 = int(liste[3])\n",
    "\n",
    "\tortalama= not1*(3/10) + not2*(3/10) + not3*(4/10)\n",
    "\n",
    "\tif (ortalama >= 95):\n",
    "\n",
    "\t\tharf = \"AA\"\n",
    "\n",
    "\telif (ortalama >= 90):\n",
    "\n",
    "\t\tharf =\"AB\"\n",
    "\n",
    "\telif (ortalama >= 85):\n",
    "\n",
    "\t\tharf =\"BB\"\n",
    "\n",
    "\telif (ortalama >= 80):\n",
    "\n",
    "\t\tharf =\"BC\"\n",
    "\n",
    "\telif (ortalama >= 75):\n",
    "\t\tharf =\"CC\"\n",
    "\n",
    "\telif (ortalama >= 70):\n",
    "\n",
    "\t\tharf =\"CD\"\n",
    "\n",
    "\telif (ortalama >= 65):\n",
    "\n",
    "\t\tharf =\"DD\"\n",
    "\n",
    "\telif (ortalama >= 60):\n",
    "\n",
    "\t\tharf =\"FD\"\n",
    "\n",
    "\telse:\n",
    "\t\tharf =\"FF\"\n",
    "\n",
    "\treturn isim+\"---------------->\"+harf+\"\\n\" \n",
    "\n",
    "\n",
    "with open(\"notlar.txt\",\"r\",encoding=\"utf-8\") as file:\n",
    "\n",
    "\tnot_ortalamaları =[]\n",
    "\n",
    "\tfor i in file:\n",
    "\t\t\n",
    "\t\tnot_ortalamaları.append(not_hesaplama(i))\n",
    "\n",
    "\twith open (\"not_ortalamaları.txt\",\"w\",encoding=\"utf-8\") as file2:\n",
    "\n",
    "\t\tfor i in not_ortalamaları:\n",
    "\n",
    "\t\t\tfile2.write(i)"
   ]
  },
  {
   "cell_type": "code",
   "execution_count": 5,
   "metadata": {},
   "outputs": [
    {
     "ename": "UnicodeDecodeError",
     "evalue": "'utf-8' codec can't decode byte 0xfe in position 33: invalid start byte",
     "output_type": "error",
     "traceback": [
      "\u001b[1;31m---------------------------------------------------------------------------\u001b[0m",
      "\u001b[1;31mUnicodeDecodeError\u001b[0m                        Traceback (most recent call last)",
      "\u001b[1;32m<ipython-input-5-c3f5da21d831>\u001b[0m in \u001b[0;36m<module>\u001b[1;34m()\u001b[0m\n\u001b[0;32m     52\u001b[0m         \u001b[0mnot_ortalamaları\u001b[0m \u001b[1;33m=\u001b[0m\u001b[1;33m[\u001b[0m\u001b[1;33m]\u001b[0m\u001b[1;33m\u001b[0m\u001b[0m\n\u001b[0;32m     53\u001b[0m \u001b[1;33m\u001b[0m\u001b[0m\n\u001b[1;32m---> 54\u001b[1;33m         \u001b[1;32mfor\u001b[0m \u001b[0mi\u001b[0m \u001b[1;32min\u001b[0m \u001b[0mfile\u001b[0m\u001b[1;33m:\u001b[0m\u001b[1;33m\u001b[0m\u001b[0m\n\u001b[0m\u001b[0;32m     55\u001b[0m \u001b[1;33m\u001b[0m\u001b[0m\n\u001b[0;32m     56\u001b[0m                 \u001b[0mnot_ortalamaları\u001b[0m\u001b[1;33m.\u001b[0m\u001b[0mappend\u001b[0m\u001b[1;33m(\u001b[0m\u001b[0mnot_hesaplama\u001b[0m\u001b[1;33m(\u001b[0m\u001b[0mi\u001b[0m\u001b[1;33m)\u001b[0m\u001b[1;33m)\u001b[0m\u001b[1;33m\u001b[0m\u001b[0m\n",
      "\u001b[1;32mC:\\Users\\LENOVO\\Anaconda3\\lib\\codecs.py\u001b[0m in \u001b[0;36mdecode\u001b[1;34m(self, input, final)\u001b[0m\n\u001b[0;32m    319\u001b[0m         \u001b[1;31m# decode input (taking the buffer into account)\u001b[0m\u001b[1;33m\u001b[0m\u001b[1;33m\u001b[0m\u001b[0m\n\u001b[0;32m    320\u001b[0m         \u001b[0mdata\u001b[0m \u001b[1;33m=\u001b[0m \u001b[0mself\u001b[0m\u001b[1;33m.\u001b[0m\u001b[0mbuffer\u001b[0m \u001b[1;33m+\u001b[0m \u001b[0minput\u001b[0m\u001b[1;33m\u001b[0m\u001b[0m\n\u001b[1;32m--> 321\u001b[1;33m         \u001b[1;33m(\u001b[0m\u001b[0mresult\u001b[0m\u001b[1;33m,\u001b[0m \u001b[0mconsumed\u001b[0m\u001b[1;33m)\u001b[0m \u001b[1;33m=\u001b[0m \u001b[0mself\u001b[0m\u001b[1;33m.\u001b[0m\u001b[0m_buffer_decode\u001b[0m\u001b[1;33m(\u001b[0m\u001b[0mdata\u001b[0m\u001b[1;33m,\u001b[0m \u001b[0mself\u001b[0m\u001b[1;33m.\u001b[0m\u001b[0merrors\u001b[0m\u001b[1;33m,\u001b[0m \u001b[0mfinal\u001b[0m\u001b[1;33m)\u001b[0m\u001b[1;33m\u001b[0m\u001b[0m\n\u001b[0m\u001b[0;32m    322\u001b[0m         \u001b[1;31m# keep undecoded input until the next call\u001b[0m\u001b[1;33m\u001b[0m\u001b[1;33m\u001b[0m\u001b[0m\n\u001b[0;32m    323\u001b[0m         \u001b[0mself\u001b[0m\u001b[1;33m.\u001b[0m\u001b[0mbuffer\u001b[0m \u001b[1;33m=\u001b[0m \u001b[0mdata\u001b[0m\u001b[1;33m[\u001b[0m\u001b[0mconsumed\u001b[0m\u001b[1;33m:\u001b[0m\u001b[1;33m]\u001b[0m\u001b[1;33m\u001b[0m\u001b[0m\n",
      "\u001b[1;31mUnicodeDecodeError\u001b[0m: 'utf-8' codec can't decode byte 0xfe in position 33: invalid start byte"
     ]
    }
   ],
   "source": [
    "def not_hesaplama(satır):\n",
    "\n",
    "\tsatır = satır[:-1]\n",
    "\tliste= satır.split(\",\")\n",
    "\n",
    "\tisim = liste[0]\n",
    "\tnot1 = int(liste[1])\n",
    "\tnot2 = int(liste[2])\n",
    "\tnot3 = int(liste[3])\n",
    "\n",
    "\tortalama= not1*(3/10) + not2*(3/10) + not3*(4/10)\n",
    "\n",
    "\tif (ortalama >= 95):\n",
    "\n",
    "\t\tharf = \"AA\"\n",
    "\n",
    "\telif (ortalama >= 90):\n",
    "\n",
    "\t\tharf =\"AB\"\n",
    "\n",
    "\telif (ortalama >= 85):\n",
    "\n",
    "\t\tharf =\"BB\"\n",
    "\n",
    "\telif (ortalama >= 80):\n",
    "\n",
    "\t\tharf =\"BC\"\n",
    "\n",
    "\telif (ortalama >= 75):\n",
    "\t\tharf =\"CC\"\n",
    "\n",
    "\telif (ortalama >= 70):\n",
    "\n",
    "\t\tharf =\"CD\"\n",
    "\n",
    "\telif (ortalama >= 65):\n",
    "\n",
    "\t\tharf =\"DD\"\n",
    "\n",
    "\telif (ortalama >= 60):\n",
    "\n",
    "\t\tharf =\"FD\"\n",
    "\n",
    "\telse:\n",
    "\t\tharf =\"FF\"\n",
    "\n",
    "\treturn isim + \"---------------->\" + harf + \"\\n\" \n",
    "\n",
    "\n",
    "with open(\"notlar.txt\",\"r\",encoding=\"utf-8\") as file:\n",
    "\n",
    "\tnot_ortalamaları =[]\n",
    "\n",
    "\tfor i in file:\n",
    "\t\t\n",
    "\t\tnot_ortalamaları.append(not_hesaplama(i))\n",
    "\n",
    "\twith open (\"not_ortala.txt\",\"w\",encoding=\"utf-8\") as file2:\n",
    "\n",
    "\t\tfor i in not_ortalamaları:\n",
    "\n",
    "\t\t\tfile2.write(i)"
   ]
  },
  {
   "cell_type": "code",
   "execution_count": 1,
   "metadata": {
    "collapsed": true
   },
   "outputs": [],
   "source": [
    "def double(x):\n",
    "    return x*2"
   ]
  },
  {
   "cell_type": "code",
   "execution_count": 2,
   "metadata": {},
   "outputs": [
    {
     "data": {
      "text/plain": [
       "<map at 0x1ada2b87f98>"
      ]
     },
     "execution_count": 2,
     "metadata": {},
     "output_type": "execute_result"
    }
   ],
   "source": [
    "map(double,[1,2,3,4,5,6])"
   ]
  },
  {
   "cell_type": "code",
   "execution_count": 4,
   "metadata": {},
   "outputs": [
    {
     "data": {
      "text/plain": [
       "[2, 4, 6, 8, 10, 12]"
      ]
     },
     "execution_count": 4,
     "metadata": {},
     "output_type": "execute_result"
    }
   ],
   "source": [
    "list(map(double,[1,2,3,4,5,6]))"
   ]
  },
  {
   "cell_type": "code",
   "execution_count": 6,
   "metadata": {},
   "outputs": [
    {
     "data": {
      "text/plain": [
       "[1, 4, 9, 9, 25, 36, 49, 64]"
      ]
     },
     "execution_count": 6,
     "metadata": {},
     "output_type": "execute_result"
    }
   ],
   "source": [
    "list(map(lambda x :x**2, (1,2,3,3,5,6,7,8)))"
   ]
  },
  {
   "cell_type": "code",
   "execution_count": 8,
   "metadata": {},
   "outputs": [
    {
     "name": "stdout",
     "output_type": "stream",
     "text": [
      "1 C\n",
      "2 Java\n",
      "3 Php\n",
      "4 Laravel\n"
     ]
    }
   ],
   "source": [
    "liste_prgram = [\"C\",\"Java\",\"Php\",\"Laravel\"]\n",
    "liste_sayılar = [1,2,3,4,6,54]\n",
    "\n",
    "for i,j in zip(liste_sayılar,liste_prgram):\n",
    "    print(i,j)"
   ]
  },
  {
   "cell_type": "code",
   "execution_count": 9,
   "metadata": {
    "collapsed": true
   },
   "outputs": [],
   "source": [
    "liste = [\"Kivi\",\"Bakla\"]"
   ]
  },
  {
   "cell_type": "code",
   "execution_count": 10,
   "metadata": {},
   "outputs": [
    {
     "data": {
      "text/plain": [
       "[(0, 'Kivi'), (1, 'Bakla')]"
      ]
     },
     "execution_count": 10,
     "metadata": {},
     "output_type": "execute_result"
    }
   ],
   "source": [
    "list(enumerate(liste))"
   ]
  },
  {
   "cell_type": "code",
   "execution_count": 18,
   "metadata": {
    "collapsed": true
   },
   "outputs": [],
   "source": [
    "liste = [(3,4),(10,3),(5,6),(1,9)]\n"
   ]
  },
  {
   "cell_type": "code",
   "execution_count": 28,
   "metadata": {},
   "outputs": [
    {
     "ename": "SyntaxError",
     "evalue": "unexpected EOF while parsing (<ipython-input-28-d2e99dd410d3>, line 3)",
     "output_type": "error",
     "traceback": [
      "\u001b[1;36m  File \u001b[1;32m\"<ipython-input-28-d2e99dd410d3>\"\u001b[1;36m, line \u001b[1;32m3\u001b[0m\n\u001b[1;33m    list(map(lambda x:x,liste)\u001b[0m\n\u001b[1;37m                              ^\u001b[0m\n\u001b[1;31mSyntaxError\u001b[0m\u001b[1;31m:\u001b[0m unexpected EOF while parsing\n"
     ]
    }
   ],
   "source": [
    "\n"
   ]
  },
  {
   "cell_type": "code",
   "execution_count": 21,
   "metadata": {},
   "outputs": [
    {
     "data": {
      "text/plain": [
       "4"
      ]
     },
     "execution_count": 21,
     "metadata": {},
     "output_type": "execute_result"
    }
   ],
   "source": [
    "len(liste)"
   ]
  },
  {
   "cell_type": "code",
   "execution_count": 30,
   "metadata": {},
   "outputs": [
    {
     "ename": "TypeError",
     "evalue": "çarpma() missing 1 required positional argument: 'y'",
     "output_type": "error",
     "traceback": [
      "\u001b[1;31m---------------------------------------------------------------------------\u001b[0m",
      "\u001b[1;31mTypeError\u001b[0m                                 Traceback (most recent call last)",
      "\u001b[1;32m<ipython-input-30-480914f2d29c>\u001b[0m in \u001b[0;36m<module>\u001b[1;34m()\u001b[0m\n\u001b[0;32m      4\u001b[0m         \u001b[1;32mreturn\u001b[0m \u001b[0mx\u001b[0m\u001b[1;33m*\u001b[0m\u001b[0my\u001b[0m\u001b[1;33m\u001b[0m\u001b[0m\n\u001b[0;32m      5\u001b[0m \u001b[1;33m\u001b[0m\u001b[0m\n\u001b[1;32m----> 6\u001b[1;33m \u001b[0malan\u001b[0m \u001b[1;33m=\u001b[0m \u001b[0mlist\u001b[0m\u001b[1;33m(\u001b[0m\u001b[0mmap\u001b[0m\u001b[1;33m(\u001b[0m\u001b[0mçarpma\u001b[0m\u001b[1;33m,\u001b[0m\u001b[0mliste\u001b[0m\u001b[1;33m)\u001b[0m\u001b[1;33m)\u001b[0m\u001b[1;33m\u001b[0m\u001b[0m\n\u001b[0m\u001b[0;32m      7\u001b[0m \u001b[0mprint\u001b[0m\u001b[1;33m(\u001b[0m\u001b[0malan\u001b[0m\u001b[1;33m)\u001b[0m\u001b[1;33m\u001b[0m\u001b[0m\n",
      "\u001b[1;31mTypeError\u001b[0m: çarpma() missing 1 required positional argument: 'y'"
     ]
    }
   ],
   "source": [
    "liste = [(3,4),(10,3),(5,6),(1,9)]\n",
    "\n",
    "def çarpma(x,y):\n",
    "\treturn x*y\n",
    "\t\n",
    "alan = list(map(çarpma,liste))\n",
    "print(alan)\n"
   ]
  },
  {
   "cell_type": "code",
   "execution_count": 39,
   "metadata": {},
   "outputs": [
    {
     "ename": "TypeError",
     "evalue": "<lambda>() missing 1 required positional argument: 'y'",
     "output_type": "error",
     "traceback": [
      "\u001b[1;31m---------------------------------------------------------------------------\u001b[0m",
      "\u001b[1;31mTypeError\u001b[0m                                 Traceback (most recent call last)",
      "\u001b[1;32m<ipython-input-39-ff7c2741790f>\u001b[0m in \u001b[0;36m<module>\u001b[1;34m()\u001b[0m\n\u001b[0;32m      1\u001b[0m \u001b[0mliste\u001b[0m \u001b[1;33m=\u001b[0m \u001b[1;33m[\u001b[0m\u001b[1;33m(\u001b[0m\u001b[1;36m3\u001b[0m\u001b[1;33m,\u001b[0m\u001b[1;36m4\u001b[0m\u001b[1;33m)\u001b[0m\u001b[1;33m,\u001b[0m\u001b[1;33m(\u001b[0m\u001b[1;36m10\u001b[0m\u001b[1;33m,\u001b[0m\u001b[1;36m3\u001b[0m\u001b[1;33m)\u001b[0m\u001b[1;33m,\u001b[0m\u001b[1;33m(\u001b[0m\u001b[1;36m5\u001b[0m\u001b[1;33m,\u001b[0m\u001b[1;36m6\u001b[0m\u001b[1;33m)\u001b[0m\u001b[1;33m,\u001b[0m\u001b[1;33m(\u001b[0m\u001b[1;36m1\u001b[0m\u001b[1;33m,\u001b[0m\u001b[1;36m9\u001b[0m\u001b[1;33m)\u001b[0m\u001b[1;33m]\u001b[0m\u001b[1;33m\u001b[0m\u001b[0m\n\u001b[0;32m      2\u001b[0m \u001b[1;33m\u001b[0m\u001b[0m\n\u001b[1;32m----> 3\u001b[1;33m \u001b[0malan\u001b[0m \u001b[1;33m=\u001b[0m\u001b[0mlist\u001b[0m\u001b[1;33m(\u001b[0m\u001b[0mmap\u001b[0m\u001b[1;33m(\u001b[0m\u001b[1;32mlambda\u001b[0m \u001b[0mx\u001b[0m\u001b[1;33m,\u001b[0m\u001b[0my\u001b[0m\u001b[1;33m:\u001b[0m \u001b[0mx\u001b[0m\u001b[1;33m*\u001b[0m\u001b[0my\u001b[0m\u001b[1;33m,\u001b[0m \u001b[0mliste\u001b[0m\u001b[1;33m)\u001b[0m\u001b[1;33m)\u001b[0m\u001b[1;33m\u001b[0m\u001b[0m\n\u001b[0m\u001b[0;32m      4\u001b[0m \u001b[0mprint\u001b[0m\u001b[1;33m(\u001b[0m\u001b[0malan\u001b[0m\u001b[1;33m)\u001b[0m\u001b[1;33m\u001b[0m\u001b[0m\n",
      "\u001b[1;31mTypeError\u001b[0m: <lambda>() missing 1 required positional argument: 'y'"
     ]
    }
   ],
   "source": [
    "liste = [(3,4),(10,3),(5,6),(1,9)]\n",
    "\n",
    "alan =list(map(lambda x,y: x*y, liste))\n",
    "print(alan)"
   ]
  },
  {
   "cell_type": "code",
   "execution_count": 38,
   "metadata": {},
   "outputs": [
    {
     "name": "stdout",
     "output_type": "stream",
     "text": [
      "[(3, 4), (10, 3), (5, 6), (1, 9)]\n"
     ]
    }
   ],
   "source": [
    "print(liste)"
   ]
  },
  {
   "cell_type": "code",
   "execution_count": 40,
   "metadata": {},
   "outputs": [
    {
     "ename": "AttributeError",
     "evalue": "'function' object has no attribute 'liste'",
     "output_type": "error",
     "traceback": [
      "\u001b[1;31m---------------------------------------------------------------------------\u001b[0m",
      "\u001b[1;31mAttributeError\u001b[0m                            Traceback (most recent call last)",
      "\u001b[1;32m<ipython-input-40-3405ca34588c>\u001b[0m in \u001b[0;36m<module>\u001b[1;34m()\u001b[0m\n\u001b[0;32m      4\u001b[0m \u001b[0mliste\u001b[0m \u001b[1;33m=\u001b[0m \u001b[1;33m[\u001b[0m\u001b[1;33m(\u001b[0m\u001b[1;36m3\u001b[0m\u001b[1;33m,\u001b[0m\u001b[1;36m4\u001b[0m\u001b[1;33m)\u001b[0m\u001b[1;33m,\u001b[0m\u001b[1;33m(\u001b[0m\u001b[1;36m10\u001b[0m\u001b[1;33m,\u001b[0m\u001b[1;36m3\u001b[0m\u001b[1;33m)\u001b[0m\u001b[1;33m,\u001b[0m\u001b[1;33m(\u001b[0m\u001b[1;36m5\u001b[0m\u001b[1;33m,\u001b[0m\u001b[1;36m6\u001b[0m\u001b[1;33m)\u001b[0m\u001b[1;33m,\u001b[0m\u001b[1;33m(\u001b[0m\u001b[1;36m1\u001b[0m\u001b[1;33m,\u001b[0m\u001b[1;36m9\u001b[0m\u001b[1;33m)\u001b[0m\u001b[1;33m]\u001b[0m\u001b[1;33m\u001b[0m\u001b[0m\n\u001b[0;32m      5\u001b[0m \u001b[1;33m\u001b[0m\u001b[0m\n\u001b[1;32m----> 6\u001b[1;33m \u001b[0mprint\u001b[0m\u001b[1;33m(\u001b[0m\u001b[0mçarp\u001b[0m\u001b[1;33m.\u001b[0m\u001b[0mliste\u001b[0m\u001b[1;33m)\u001b[0m\u001b[1;33m\u001b[0m\u001b[0m\n\u001b[0m",
      "\u001b[1;31mAttributeError\u001b[0m: 'function' object has no attribute 'liste'"
     ]
    }
   ],
   "source": [
    "def çarp(x):\n",
    "\tprint(x)\n",
    "\n",
    "liste = [(3,4),(10,3),(5,6),(1,9)]\n",
    "\n",
    "print(çarp.liste)"
   ]
  },
  {
   "cell_type": "code",
   "execution_count": 52,
   "metadata": {},
   "outputs": [
    {
     "ename": "IndentationError",
     "evalue": "unindent does not match any outer indentation level (<ipython-input-52-a5afe28a9cc3>, line 5)",
     "output_type": "error",
     "traceback": [
      "\u001b[1;36m  File \u001b[1;32m\"<ipython-input-52-a5afe28a9cc3>\"\u001b[1;36m, line \u001b[1;32m5\u001b[0m\n\u001b[1;33m    for i in kenar:\u001b[0m\n\u001b[1;37m                   ^\u001b[0m\n\u001b[1;31mIndentationError\u001b[0m\u001b[1;31m:\u001b[0m unindent does not match any outer indentation level\n"
     ]
    }
   ],
   "source": [
    "def çarp(x):\n",
    "\tkenar=[]\n",
    "\tkenar.append(x)\n",
    "\tprint(\"Kenarımız\",kenar)\n",
    "    for i in kenar:\n",
    "        print(i,\" Kenar\")\n",
    "\n",
    "liste = [(3,4),(10,3),(5,6),(1,9)]\n",
    "\n",
    "alan = list(map(çarp,liste))\n",
    "\n",
    "print(alan)"
   ]
  },
  {
   "cell_type": "code",
   "execution_count": 53,
   "metadata": {},
   "outputs": [
    {
     "name": "stdout",
     "output_type": "stream",
     "text": [
      "Çift Sayıların Toplamı =  30\n"
     ]
    }
   ],
   "source": [
    "liste = [1,2,3,4,5,6,7,8,9,10]\n",
    "\n",
    "ciftler =list(filter(lambda x : x%2 == 0 , liste))\n",
    "toplam = 0\n",
    "for i in ciftler:\n",
    "\ttoplam +=i\n",
    "print(\"Çift Sayıların Toplamı = \", toplam)\n"
   ]
  },
  {
   "cell_type": "code",
   "execution_count": 54,
   "metadata": {},
   "outputs": [
    {
     "data": {
      "text/plain": [
       "[('Kerim', 'Yılmaz'),\n",
       " ('Tarık', 'Öztürk'),\n",
       " ('Ezgi', 'Dağdeviren'),\n",
       " ('Kemal', 'Atatürk'),\n",
       " ('İlkay', 'Dikmen'),\n",
       " ('Şükran', 'Kaya'),\n",
       " ('Merve', 'Polat')]"
      ]
     },
     "execution_count": 54,
     "metadata": {},
     "output_type": "execute_result"
    }
   ],
   "source": [
    "isimler = [\"Kerim\",\"Tarık\",\"Ezgi\",\"Kemal\",\"İlkay\",\"Şükran\",\"Merve\"]\n",
    "Soyisimler= [\"Yılmaz\",\"Öztürk\",\"Dağdeviren\",\"Atatürk\",\"Dikmen\",\"Kaya\",\"Polat\"]\n",
    "\n",
    "list(zip(isimler,Soyisimler))"
   ]
  },
  {
   "cell_type": "code",
   "execution_count": 56,
   "metadata": {},
   "outputs": [
    {
     "name": "stdout",
     "output_type": "stream",
     "text": [
      "[12, 30, 30, 9]\n"
     ]
    }
   ],
   "source": [
    "def çarp(demet):\n",
    "\treturn demet[0]*demet[1]\n",
    "\t\n",
    "\n",
    "liste = [(3,4),(10,3),(5,6),(1,9)]\n",
    "\n",
    "alan = list(map(çarp,liste))\n",
    "\n",
    "print(alan)\n"
   ]
  },
  {
   "cell_type": "code",
   "execution_count": 2,
   "metadata": {},
   "outputs": [
    {
     "data": {
      "text/plain": [
       "'0b111'"
      ]
     },
     "execution_count": 2,
     "metadata": {},
     "output_type": "execute_result"
    }
   ],
   "source": [
    "bin(7)"
   ]
  },
  {
   "cell_type": "code",
   "execution_count": 3,
   "metadata": {},
   "outputs": [
    {
     "data": {
      "text/plain": [
       "'0x12c'"
      ]
     },
     "execution_count": 3,
     "metadata": {},
     "output_type": "execute_result"
    }
   ],
   "source": [
    "hex(300)"
   ]
  },
  {
   "cell_type": "code",
   "execution_count": 4,
   "metadata": {},
   "outputs": [
    {
     "data": {
      "text/plain": [
       "300"
      ]
     },
     "execution_count": 4,
     "metadata": {},
     "output_type": "execute_result"
    }
   ],
   "source": [
    "12 + (2*16**1) +(1*16**2)"
   ]
  },
  {
   "cell_type": "code",
   "execution_count": 5,
   "metadata": {},
   "outputs": [
    {
     "data": {
      "text/plain": [
       "28"
      ]
     },
     "execution_count": 5,
     "metadata": {},
     "output_type": "execute_result"
    }
   ],
   "source": [
    "sum([1,2,3,4,5,6,7])"
   ]
  },
  {
   "cell_type": "code",
   "execution_count": 6,
   "metadata": {},
   "outputs": [
    {
     "data": {
      "text/plain": [
       "'BAHADIR'"
      ]
     },
     "execution_count": 6,
     "metadata": {},
     "output_type": "execute_result"
    }
   ],
   "source": [
    "\"bahadır\".upper()"
   ]
  },
  {
   "cell_type": "code",
   "execution_count": 7,
   "metadata": {},
   "outputs": [
    {
     "data": {
      "text/plain": [
       "'bahadir'"
      ]
     },
     "execution_count": 7,
     "metadata": {},
     "output_type": "execute_result"
    }
   ],
   "source": [
    "\"BAHADIR\".lower()"
   ]
  },
  {
   "cell_type": "code",
   "execution_count": 8,
   "metadata": {},
   "outputs": [
    {
     "data": {
      "text/plain": [
       "'03-11-1994'"
      ]
     },
     "execution_count": 8,
     "metadata": {},
     "output_type": "execute_result"
    }
   ],
   "source": [
    "liste = [\"03\",\"11\",\"1994\"]\n",
    "\"-\".join(liste)"
   ]
  },
  {
   "cell_type": "code",
   "execution_count": 4,
   "metadata": {
    "collapsed": true
   },
   "outputs": [],
   "source": [
    "x ={1,2,3,4,5,\"Python\"}"
   ]
  },
  {
   "cell_type": "code",
   "execution_count": 5,
   "metadata": {},
   "outputs": [
    {
     "data": {
      "text/plain": [
       "{1, 2, 3, 4, 5, 'Python'}"
      ]
     },
     "execution_count": 5,
     "metadata": {},
     "output_type": "execute_result"
    }
   ],
   "source": [
    "x"
   ]
  },
  {
   "cell_type": "code",
   "execution_count": 6,
   "metadata": {},
   "outputs": [
    {
     "data": {
      "text/plain": [
       "set"
      ]
     },
     "execution_count": 6,
     "metadata": {},
     "output_type": "execute_result"
    }
   ],
   "source": [
    "type(x)"
   ]
  },
  {
   "cell_type": "code",
   "execution_count": 7,
   "metadata": {
    "collapsed": true
   },
   "outputs": [],
   "source": [
    "y=set()"
   ]
  },
  {
   "cell_type": "code",
   "execution_count": 8,
   "metadata": {},
   "outputs": [
    {
     "data": {
      "text/plain": [
       "set"
      ]
     },
     "execution_count": 8,
     "metadata": {},
     "output_type": "execute_result"
    }
   ],
   "source": [
    "type(y)"
   ]
  },
  {
   "cell_type": "code",
   "execution_count": 14,
   "metadata": {
    "collapsed": true
   },
   "outputs": [],
   "source": [
    "x=set(\"Python\")"
   ]
  },
  {
   "cell_type": "code",
   "execution_count": 15,
   "metadata": {},
   "outputs": [
    {
     "data": {
      "text/plain": [
       "{'P', 'h', 'n', 'o', 't', 'y'}"
      ]
     },
     "execution_count": 15,
     "metadata": {},
     "output_type": "execute_result"
    }
   ],
   "source": [
    "x"
   ]
  },
  {
   "cell_type": "code",
   "execution_count": 16,
   "metadata": {
    "collapsed": true
   },
   "outputs": [],
   "source": [
    "x ={1,2,3,4,5,\"Python\",\"Muz\"}"
   ]
  },
  {
   "cell_type": "code",
   "execution_count": 17,
   "metadata": {
    "collapsed": true
   },
   "outputs": [],
   "source": [
    "x.add(\"absolute\")"
   ]
  },
  {
   "cell_type": "code",
   "execution_count": 18,
   "metadata": {},
   "outputs": [
    {
     "data": {
      "text/plain": [
       "{1, 2, 3, 4, 5, 'Python', 'Muz', 'absolute'}"
      ]
     },
     "execution_count": 18,
     "metadata": {},
     "output_type": "execute_result"
    }
   ],
   "source": [
    "x"
   ]
  },
  {
   "cell_type": "code",
   "execution_count": 19,
   "metadata": {
    "collapsed": true
   },
   "outputs": [],
   "source": [
    "y={\"Muz\",\"Elma\",\"Lale\",1,2,3,4,\"Python\"}"
   ]
  },
  {
   "cell_type": "code",
   "execution_count": 20,
   "metadata": {},
   "outputs": [
    {
     "data": {
      "text/plain": [
       "{'absolute', 5}"
      ]
     },
     "execution_count": 20,
     "metadata": {},
     "output_type": "execute_result"
    }
   ],
   "source": [
    "x.difference(y)"
   ]
  },
  {
   "cell_type": "code",
   "execution_count": 22,
   "metadata": {},
   "outputs": [
    {
     "data": {
      "text/plain": [
       "{'Elma', 'Lale'}"
      ]
     },
     "execution_count": 22,
     "metadata": {},
     "output_type": "execute_result"
    }
   ],
   "source": [
    "y.difference(x)"
   ]
  },
  {
   "cell_type": "code",
   "execution_count": 23,
   "metadata": {
    "collapsed": true
   },
   "outputs": [],
   "source": [
    "y.difference_update(x)"
   ]
  },
  {
   "cell_type": "code",
   "execution_count": 24,
   "metadata": {},
   "outputs": [
    {
     "data": {
      "text/plain": [
       "{'Elma', 'Lale'}"
      ]
     },
     "execution_count": 24,
     "metadata": {},
     "output_type": "execute_result"
    }
   ],
   "source": [
    "y"
   ]
  },
  {
   "cell_type": "code",
   "execution_count": 25,
   "metadata": {
    "collapsed": true
   },
   "outputs": [],
   "source": [
    "y.discard(\"Elma\")"
   ]
  },
  {
   "cell_type": "code",
   "execution_count": 26,
   "metadata": {},
   "outputs": [
    {
     "data": {
      "text/plain": [
       "{'Lale'}"
      ]
     },
     "execution_count": 26,
     "metadata": {},
     "output_type": "execute_result"
    }
   ],
   "source": [
    "y"
   ]
  },
  {
   "cell_type": "code",
   "execution_count": 27,
   "metadata": {},
   "outputs": [
    {
     "data": {
      "text/plain": [
       "set()"
      ]
     },
     "execution_count": 27,
     "metadata": {},
     "output_type": "execute_result"
    }
   ],
   "source": [
    "x.intersection(y)"
   ]
  },
  {
   "cell_type": "code",
   "execution_count": 29,
   "metadata": {
    "collapsed": true
   },
   "outputs": [],
   "source": [
    "y.add(\"Muz\")"
   ]
  },
  {
   "cell_type": "code",
   "execution_count": 30,
   "metadata": {
    "collapsed": true
   },
   "outputs": [],
   "source": [
    "y.add(1)"
   ]
  },
  {
   "cell_type": "code",
   "execution_count": 31,
   "metadata": {},
   "outputs": [
    {
     "data": {
      "text/plain": [
       "{1, 'Muz'}"
      ]
     },
     "execution_count": 31,
     "metadata": {},
     "output_type": "execute_result"
    }
   ],
   "source": [
    "x.intersection(y)"
   ]
  },
  {
   "cell_type": "code",
   "execution_count": 32,
   "metadata": {},
   "outputs": [
    {
     "data": {
      "text/plain": [
       "False"
      ]
     },
     "execution_count": 32,
     "metadata": {},
     "output_type": "execute_result"
    }
   ],
   "source": [
    "x.isdisjoint(y)"
   ]
  },
  {
   "cell_type": "code",
   "execution_count": 33,
   "metadata": {},
   "outputs": [
    {
     "data": {
      "text/plain": [
       "{1, 2, 3, 4, 5, 'absolute', 'Python', 'Lale', 'Muz'}"
      ]
     },
     "execution_count": 33,
     "metadata": {},
     "output_type": "execute_result"
    }
   ],
   "source": [
    "x.union(y)"
   ]
  },
  {
   "cell_type": "code",
   "execution_count": 34,
   "metadata": {
    "collapsed": true
   },
   "outputs": [],
   "source": [
    "x.update(y)"
   ]
  },
  {
   "cell_type": "code",
   "execution_count": 35,
   "metadata": {},
   "outputs": [
    {
     "data": {
      "text/plain": [
       "{1, 2, 3, 4, 5, 'Python', 'Lale', 'Muz', 'absolute'}"
      ]
     },
     "execution_count": 35,
     "metadata": {},
     "output_type": "execute_result"
    }
   ],
   "source": [
    "x"
   ]
  },
  {
   "cell_type": "code",
   "execution_count": 36,
   "metadata": {
    "collapsed": true
   },
   "outputs": [],
   "source": [
    "liste =[1,2,3,4,5,\"Python\",\"OpenCv\"]"
   ]
  },
  {
   "cell_type": "code",
   "execution_count": 37,
   "metadata": {},
   "outputs": [
    {
     "data": {
      "text/plain": [
       "4"
      ]
     },
     "execution_count": 37,
     "metadata": {},
     "output_type": "execute_result"
    }
   ],
   "source": [
    "liste.pop(3)"
   ]
  },
  {
   "cell_type": "code",
   "execution_count": 38,
   "metadata": {},
   "outputs": [
    {
     "data": {
      "text/plain": [
       "[1, 2, 3, 5, 'Python', 'OpenCv']"
      ]
     },
     "execution_count": 38,
     "metadata": {},
     "output_type": "execute_result"
    }
   ],
   "source": [
    "liste"
   ]
  },
  {
   "cell_type": "code",
   "execution_count": 39,
   "metadata": {},
   "outputs": [
    {
     "data": {
      "text/plain": [
       "2"
      ]
     },
     "execution_count": 39,
     "metadata": {},
     "output_type": "execute_result"
    }
   ],
   "source": [
    "liste.index(3)"
   ]
  },
  {
   "cell_type": "code",
   "execution_count": 40,
   "metadata": {
    "collapsed": true
   },
   "outputs": [],
   "source": [
    "liste.remove(\"Python\")"
   ]
  },
  {
   "cell_type": "code",
   "execution_count": 41,
   "metadata": {},
   "outputs": [
    {
     "data": {
      "text/plain": [
       "[1, 2, 3, 5, 'OpenCv']"
      ]
     },
     "execution_count": 41,
     "metadata": {},
     "output_type": "execute_result"
    }
   ],
   "source": [
    "liste"
   ]
  },
  {
   "cell_type": "code",
   "execution_count": 42,
   "metadata": {
    "collapsed": true
   },
   "outputs": [],
   "source": [
    "liste.insert(5,\"Python\")"
   ]
  },
  {
   "cell_type": "code",
   "execution_count": 43,
   "metadata": {},
   "outputs": [
    {
     "data": {
      "text/plain": [
       "[1, 2, 3, 5, 'OpenCv', 'Python']"
      ]
     },
     "execution_count": 43,
     "metadata": {},
     "output_type": "execute_result"
    }
   ],
   "source": [
    "liste\n"
   ]
  },
  {
   "cell_type": "code",
   "execution_count": 44,
   "metadata": {
    "collapsed": true
   },
   "outputs": [],
   "source": [
    "a = str(\"ProgramlamaÖdeviİleriSeviyeVeriYapılarıveObjeleripynb\")"
   ]
  },
  {
   "cell_type": "code",
   "execution_count": 45,
   "metadata": {},
   "outputs": [
    {
     "data": {
      "text/plain": [
       "'ProgramlamaÖdeviİleriSeviyeVeriYapılarıveObjeleripynb'"
      ]
     },
     "execution_count": 45,
     "metadata": {},
     "output_type": "execute_result"
    }
   ],
   "source": [
    "a"
   ]
  },
  {
   "cell_type": "code",
   "execution_count": 46,
   "metadata": {},
   "outputs": [
    {
     "name": "stdout",
     "output_type": "stream",
     "text": [
      "['P', 'r', 'o', 'g', 'r', 'a', 'm', 'l', 'a', 'm', 'a', 'Ö', 'd', 'e', 'v', 'i', 'İ', 'l', 'e', 'r', 'i', 'S', 'e', 'v', 'i', 'y', 'e', 'V', 'e', 'r', 'i', 'Y', 'a', 'p', 'ı', 'l', 'a', 'r', 'ı', 'v', 'e', 'O', 'b', 'j', 'e', 'l', 'e', 'r', 'i', 'p', 'y', 'n', 'b']\n"
     ]
    }
   ],
   "source": [
    "a = str(\"ProgramlamaÖdeviİleriSeviyeVeriYapılarıveObjeleripynb\")\n",
    "\n",
    "ayrı = list()\n",
    "for i in a :\n",
    "\tayrı.append(i)\n",
    "print(ayrı)"
   ]
  },
  {
   "cell_type": "code",
   "execution_count": 48,
   "metadata": {},
   "outputs": [
    {
     "name": "stdout",
     "output_type": "stream",
     "text": [
      "['P', 'r', 'o', 'g', 'r', 'a', 'm', 'l', 'a', 'm', 'a', 'Ö', 'd', 'e', 'v', 'i', 'İ', 'l', 'e', 'r', 'i', 'S', 'e', 'v', 'i', 'y', 'e', 'V', 'e', 'r', 'i', 'Y', 'a', 'p', 'ı', 'l', 'a', 'r', 'ı', 'v', 'e', 'O', 'b', 'j', 'e', 'l', 'e', 'r', 'i', 'p', 'y', 'n', 'b']\n",
      "P Kelimesi 1 defa geçiyor\n",
      "********************\n",
      "r Kelimesi 6 defa geçiyor\n",
      "********************\n",
      "o Kelimesi 1 defa geçiyor\n",
      "********************\n",
      "g Kelimesi 1 defa geçiyor\n",
      "********************\n",
      "a Kelimesi 5 defa geçiyor\n",
      "********************\n",
      "m Kelimesi 2 defa geçiyor\n",
      "********************\n",
      "l Kelimesi 4 defa geçiyor\n",
      "********************\n",
      "Ö Kelimesi 1 defa geçiyor\n",
      "********************\n",
      "d Kelimesi 1 defa geçiyor\n",
      "********************\n",
      "e Kelimesi 8 defa geçiyor\n",
      "********************\n",
      "v Kelimesi 3 defa geçiyor\n",
      "********************\n",
      "i Kelimesi 5 defa geçiyor\n",
      "********************\n",
      "İ Kelimesi 1 defa geçiyor\n",
      "********************\n",
      "S Kelimesi 1 defa geçiyor\n",
      "********************\n",
      "y Kelimesi 2 defa geçiyor\n",
      "********************\n",
      "V Kelimesi 1 defa geçiyor\n",
      "********************\n",
      "Y Kelimesi 1 defa geçiyor\n",
      "********************\n",
      "p Kelimesi 2 defa geçiyor\n",
      "********************\n",
      "ı Kelimesi 2 defa geçiyor\n",
      "********************\n",
      "O Kelimesi 1 defa geçiyor\n",
      "********************\n",
      "b Kelimesi 2 defa geçiyor\n",
      "********************\n",
      "j Kelimesi 1 defa geçiyor\n",
      "********************\n",
      "n Kelimesi 1 defa geçiyor\n",
      "********************\n"
     ]
    }
   ],
   "source": [
    "a = str(\"ProgramlamaÖdeviİleriSeviyeVeriYapılarıveObjeleripynb\")\n",
    "\n",
    "ayrı = list()\n",
    "harf_sozluk = dict()\n",
    "\n",
    "for i in a :\n",
    "\tayrı.append(i)\n",
    "print(ayrı)\n",
    "\n",
    "for i in ayrı:\n",
    "\tif i in harf_sozluk:\n",
    "\t\tharf_sozluk[i] +=1\n",
    "\telse:\n",
    "\t\tharf_sozluk[i] = 1\n",
    "\n",
    "for kelime,sayı in harf_sozluk.items():\n",
    "\n",
    "\tprint(\"{} Kelimesi {} defa geçiyor\". format(kelime,sayı))\n",
    "\tprint(\"********************\")"
   ]
  },
  {
   "cell_type": "code",
   "execution_count": 64,
   "metadata": {},
   "outputs": [
    {
     "name": "stdout",
     "output_type": "stream",
     "text": [
      "['Memlekete sis çökmüş bir gece \\n', 'Usulca yanağıma sen düşüyorsun\\n', 'Sabah saat dokuzu beş geçe\\n', 'Terk edip bizleri gidiyorsun\\n', 'Ayrılık bu kadar yakmamıştı içimizi\\n', 'Farkında mısın bilmiyorum\\n', 'Aldın beraberinde cumhuriyetimizi\\n', 'Korkunç bir veda, sararmıştı her yer\\n', 'Ellerini uzat tutmak istiyoruz\\n', 'Masmavi gözleri kaybetmiş çocuk\\n', 'Aldı bir sabah ruhumuzu\\n', 'Lakin nasıl bölmesin yokluğun uykumuzu']\n"
     ]
    }
   ],
   "source": [
    "with open(\"şiir.txt\",\"r\",encoding=\"utf-8\") as file:\n",
    "    liste= list()\n",
    "    for i in file:\n",
    "        liste.append(i)\n",
    "    for i in liste:\n",
    "        i.strip(\"\\n\")\n",
    "    print(liste)"
   ]
  },
  {
   "cell_type": "code",
   "execution_count": 1,
   "metadata": {
    "collapsed": true
   },
   "outputs": [],
   "source": [
    "def anafonksiyon(işlem_adı):\n",
    "    \n",
    "    def toplama(*args):\n",
    "        toplam = 0 \n",
    "        for i in args:\n",
    "            toplam +=i\n",
    "        return toplam\n",
    "    \n",
    "    def çarpma(*args):\n",
    "        çarpım = 1\n",
    "        for i in args:\n",
    "            çarpım *=i\n",
    "        return çarpım\n",
    "    if (işlem_adı == \"toplama\"):\n",
    "        return toplama\n",
    "    else:\n",
    "        return çarpma\n",
    "    \n",
    "    "
   ]
  },
  {
   "cell_type": "code",
   "execution_count": 3,
   "metadata": {},
   "outputs": [],
   "source": [
    "fonk = anafonksiyon(\"toplama\")"
   ]
  },
  {
   "cell_type": "code",
   "execution_count": 4,
   "metadata": {},
   "outputs": [
    {
     "data": {
      "text/plain": [
       "15"
      ]
     },
     "execution_count": 4,
     "metadata": {},
     "output_type": "execute_result"
    }
   ],
   "source": [
    "fonk(1,2,3,4,5)"
   ]
  },
  {
   "cell_type": "code",
   "execution_count": 5,
   "metadata": {
    "collapsed": true
   },
   "outputs": [],
   "source": [
    "fonk = anafonksiyon(\"çarpma\")"
   ]
  },
  {
   "cell_type": "code",
   "execution_count": 6,
   "metadata": {},
   "outputs": [
    {
     "data": {
      "text/plain": [
       "120"
      ]
     },
     "execution_count": 6,
     "metadata": {},
     "output_type": "execute_result"
    }
   ],
   "source": [
    "fonk(2,3,4,5)"
   ]
  },
  {
   "cell_type": "code",
   "execution_count": null,
   "metadata": {
    "collapsed": true
   },
   "outputs": [],
   "source": []
  }
 ],
 "metadata": {
  "kernelspec": {
   "display_name": "Python 3",
   "language": "python",
   "name": "python3"
  },
  "language_info": {
   "codemirror_mode": {
    "name": "ipython",
    "version": 3
   },
   "file_extension": ".py",
   "mimetype": "text/x-python",
   "name": "python",
   "nbconvert_exporter": "python",
   "pygments_lexer": "ipython3",
   "version": "3.6.1"
  }
 },
 "nbformat": 4,
 "nbformat_minor": 2
}
