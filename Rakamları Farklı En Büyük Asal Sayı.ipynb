{
 "cells": [
  {
   "cell_type": "code",
   "execution_count": 63,
   "metadata": {},
   "outputs": [
    {
     "name": "stdout",
     "output_type": "stream",
     "text": [
      "7 Asaldır\n",
      "5 Asaldır\n",
      "3 Asaldır\n"
     ]
    }
   ],
   "source": [
    "def asal(sayı):\n",
    "    while sayı>1:\n",
    "        \n",
    "        #print(\"Yeni sayı: \", sayı)\n",
    "        \n",
    "        for i in range(2,sayı):\n",
    "            #print(\"Sayıya geliyoruz... \", i )\n",
    "            if (sayı%i == 0):\n",
    "                #print(\"Sayınız asal değil çünkü {}'ye bölünüyor \".format(i)) \n",
    "                return\n",
    "            if i == sayı-1: \n",
    "                print(\"{} Asaldır\". format(sayı))\n",
    "        sayı -= 1\n",
    "        \n",
    "\n",
    "for i in range(10,2,-1):\n",
    "    asal(i)"
   ]
  },
  {
   "cell_type": "code",
   "execution_count": null,
   "metadata": {
    "collapsed": true
   },
   "outputs": [],
   "source": []
  },
  {
   "cell_type": "code",
   "execution_count": null,
   "metadata": {
    "collapsed": true
   },
   "outputs": [],
   "source": []
  },
  {
   "cell_type": "code",
   "execution_count": null,
   "metadata": {
    "collapsed": true
   },
   "outputs": [],
   "source": []
  },
  {
   "cell_type": "code",
   "execution_count": null,
   "metadata": {
    "collapsed": true
   },
   "outputs": [],
   "source": []
  },
  {
   "cell_type": "code",
   "execution_count": null,
   "metadata": {
    "collapsed": true
   },
   "outputs": [],
   "source": []
  }
 ],
 "metadata": {
  "kernelspec": {
   "display_name": "Python 3",
   "language": "python",
   "name": "python3"
  },
  "language_info": {
   "codemirror_mode": {
    "name": "ipython",
    "version": 3
   },
   "file_extension": ".py",
   "mimetype": "text/x-python",
   "name": "python",
   "nbconvert_exporter": "python",
   "pygments_lexer": "ipython3",
   "version": "3.6.1"
  }
 },
 "nbformat": 4,
 "nbformat_minor": 2
}
